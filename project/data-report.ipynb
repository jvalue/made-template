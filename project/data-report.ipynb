{
 "cells": [
  {
   "cell_type": "markdown",
   "source": [
    "# Data Report -\n",
    "### Energy consumption as driver of greenhouse gas emissions and the influence of renewables."
   ],
   "metadata": {
    "collapsed": false
   },
   "id": "9ddc96e931f7dd80"
  },
  {
   "cell_type": "markdown",
   "source": [
    "## Main Question\n",
    "The main question of this project will discuss is:\n",
    "\n",
    "1. How does the amount of energy consumed influence the net greenhouse gas emissions of European countries?\n",
    "\n",
    "Furthermore, the project will answer the follow-up question:\n",
    "\n",
    "2. And how is this influenced by the share of renewables in total energy?"
   ],
   "metadata": {
    "collapsed": false
   },
   "id": "5fab8e05f309987c"
  },
  {
   "cell_type": "markdown",
   "source": [
    "## Data Sources\n",
    "This project utilizes three data sources from the European data portal Eurostat. Eurostat was chosen for this project because it provides high-quality, comparable data for all EU countries, not just individual nations. This consistency is crucial for a comprehensive analysis.\n",
    "\n",
    "Eurostat's supra-national approach to data collection and publication is particularly advantageous for this project, as tackling climate change necessitates a broad, as-global-as-possible perspective. By examining data across 27 EU countries, the main question of 'how energy consumption influences greenhouse gas emissions' can be addressed in a more generalized manner.\n",
    "\n",
    "Moreover, the significant variations in renewable energy usage across these countries allow for a robust analysis of the secondary question: 'how the correlation between energy consumption and greenhouse gas emissions is influenced by the share of renewables'. This comparative analysis across 27 countries enhances the generalizability of the findings.\n"
   ],
   "metadata": {
    "collapsed": false
   },
   "id": "e51f45a686e6603c"
  },
  {
   "cell_type": "markdown",
   "source": [
    "## Data Pipeline"
   ],
   "metadata": {
    "collapsed": false
   },
   "id": "fc3fa38f7249a784"
  },
  {
   "cell_type": "markdown",
   "source": [
    "## Results and Limitations"
   ],
   "metadata": {
    "collapsed": false
   },
   "id": "6bf9a790b982ef58"
  }
 ],
 "metadata": {
  "kernelspec": {
   "display_name": "Python 3",
   "language": "python",
   "name": "python3"
  },
  "language_info": {
   "codemirror_mode": {
    "name": "ipython",
    "version": 2
   },
   "file_extension": ".py",
   "mimetype": "text/x-python",
   "name": "python",
   "nbconvert_exporter": "python",
   "pygments_lexer": "ipython2",
   "version": "2.7.6"
  }
 },
 "nbformat": 4,
 "nbformat_minor": 5
}
